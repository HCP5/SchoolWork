{
 "cells": [
  {
   "cell_type": "markdown",
   "source": [
    "Regression loss\n",
    "---"
   ],
   "metadata": {
    "collapsed": false,
    "pycharm": {
     "name": "#%% md\n"
    }
   }
  },
  {
   "cell_type": "code",
   "execution_count": 1,
   "metadata": {
    "collapsed": true
   },
   "outputs": [
    {
     "name": "stdout",
     "output_type": "stream",
     "text": [
      "MSE: 0.6320000000000001\n"
     ]
    }
   ],
   "source": [
    "#[(2.6,3.1,4.3), (9.1,9.8,3.0), (3.1,5.0,3), (5.1,2.2,0.7), (2.4,5.2,4.2)]\n",
    "realOutput=[(2.2,3.1,2.3), (9.7,9.1,2.1), (3.7,4.3,3.9), (5.1,2.7,0), (2.9,5.1,3.2)]\n",
    "computedOutput=[(2.6,3.1,4.3), (9.1,9.8,3.0), (3.1,5.0,3), (5.1,2.2,0.7), (2.4,5.2,4.2)]\n",
    "n=(len(realOutput[0]))\n",
    "Err2=0\n",
    "for i in range(n):\n",
    "    Err2+=sum((r[i] - c[i]) ** 2 for r, c in zip(realOutput, computedOutput)) / len(realOutput)\n",
    "print(\"MSE: \"+str(Err2/n))"
   ]
  },
  {
   "cell_type": "markdown",
   "source": [
    "Binary Classification loss\n",
    "--"
   ],
   "metadata": {
    "collapsed": false,
    "pycharm": {
     "name": "#%% md\n"
    }
   }
  },
  {
   "cell_type": "code",
   "execution_count": 2,
   "outputs": [
    {
     "name": "stdout",
     "output_type": "stream",
     "text": [
      "0.8949419519978631\n"
     ]
    }
   ],
   "source": [
    "from math import log\n",
    "realOutput = [\"para\",\"mar\",\"mar\",\"para\",\"mar\",\"mar\",\"mar\",\"para\",\"para\",\"mar\",\"para\",\"mar\"]\n",
    "computedOutput=[[0.6,0.4],[0.7,0.3],[0.3,0.7],[0.2,0.8],[0.1,0.9],[0.6,0.4],[0.2,0.8],[0.8,0.2],[0.2,0.8],[0.6,0.4],[0.3,0.7],[0.4,0.6]]\n",
    "computedOutputLabels = [\"mar\",\"mar\",\"para\",\"para\",\"para\",\"mar\",\"para\",\"mar\",\"para\",\"mar\",\"para\",\"para\"]\n",
    "#for loss 0\n",
    "# realOutput = [\"para\",\"mar\",\"mar\",\"para\",\"mar\",\"mar\",\"mar\",\"para\",\"para\",\"mar\",\"para\",\"mar\"]\n",
    "# computedOutput=[[0.3,1.0],[1.0,0.3],[1.0,0.3],[0.2,1.0],[1.0,0.1],[1.0,0.4],[1.0,0.2],[0.2,1.0],[0.2,1.0],[1.0,0.4],[0.3,1.0],[1.0,0.1]]\n",
    "# computedOutputLabels=[\"para\",\"mar\",\"mar\",\"para\",\"mar\",\"mar\",\"mar\",\"para\",\"para\",\"mar\",\"para\",\"mar\"]\n",
    "loss=0\n",
    "for i in range(len(realOutput)):\n",
    "    if realOutput[i]==\"mar\":\n",
    "        loss+=log(computedOutput[i][0])\n",
    "    else:\n",
    "        loss+=log(computedOutput[i][1])\n",
    "print(-loss/len(realOutput))"
   ],
   "metadata": {
    "collapsed": false,
    "pycharm": {
     "name": "#%%\n"
    }
   }
  },
  {
   "cell_type": "markdown",
   "source": [
    "Multi Class Classification loss\n",
    "--"
   ],
   "metadata": {
    "collapsed": false,
    "pycharm": {
     "name": "#%% md\n"
    }
   }
  },
  {
   "cell_type": "code",
   "execution_count": 3,
   "outputs": [
    {
     "name": "stdout",
     "output_type": "stream",
     "text": [
      "0.9850865701912107\n"
     ]
    }
   ],
   "source": [
    "realOutput = [\"pruna\",\"mar\",\"mar\",\"pruna\",\"para\",\"mar\",\"mar\",\"para\",\"para\",\"mar\",\"pruna\",\"mar\"]\n",
    "computedOutput=[[0.6,0.3,0.1],[0.3,0.7,0.0],[0.3,0.2,0.5],[0.1,0.6,0.3],[0.1,0.7,0.2],[0.6,0.3,0.1],[0.3,0.6,0.1],[0.2,0.3,0.5],[0.3,0.6,0.1],[0.6,0.3,0.1],[0.2,0.3,0.5],[0.4,0.3,0.3]]\n",
    "computedOutputLabels = [\"mar\",\"para\",\"pruna\",\"para\",\"para\",\"mar\",\"para\",\"pruna\",\"para\",\"mar\",\"pruna\",\"para\"]\n",
    "# for 0 loss\n",
    "# computedOutput=[[0.6,0.3,1.0],[1.0,0.7,0.0],[1.0,0.2,0.5],[0.1,0.6,1.0],[0.1,1.0,0.2],[1.0,0.3,0.1],[1.0,0.6,0.1],[0.2,1.0,0.5],[0.3,1.0,0.1],[1.0,0.3,0.1],[0.2,0.3,1.0],[1.0,0.3,0.3]]\n",
    "labels=[\"mar\",\"para\",\"pruna\"]\n",
    "loss=0\n",
    "for i in range(len(computedOutputLabels)):\n",
    "    loss+=log(computedOutput[i][labels.index(realOutput[i])])\n",
    "print(-loss/len(realOutput))"
   ],
   "metadata": {
    "collapsed": false,
    "pycharm": {
     "name": "#%%\n"
    }
   }
  },
  {
   "cell_type": "markdown",
   "source": [
    "Multi label Classification loss\n",
    "--"
   ],
   "metadata": {
    "collapsed": false,
    "pycharm": {
     "name": "#%% md\n"
    }
   }
  },
  {
   "cell_type": "code",
   "execution_count": 4,
   "outputs": [
    {
     "name": "stdout",
     "output_type": "stream",
     "text": [
      "3.9073354040501043\n"
     ]
    }
   ],
   "source": [
    "realOutput = [\"pruna\",\"mar\",\"mar\",\"pruna\",\"para\",\"mar\",\"mar\",\"para\",\"para\",\"mar\",\"pruna\",\"mar\"]\n",
    "computedOutput=[[0.6,0.3,0.1],[0.3,0.6,0.1],[0.3,0.2,0.5],[0.1,0.6,0.3],[0.1,0.7,0.2],[0.6,0.3,0.1],[0.5,0.2,0.3]]\n",
    "realOutputLabeling=[[0,0,1],[0,1,0],[0,1,1],[1,0,0],[1,0,1],[1,1,0],[1,1,1]]\n",
    "\n",
    "loss=0\n",
    "for i in range(len(realOutputLabeling)):\n",
    "    for j in range(len(realOutputLabeling[i])):\n",
    "        if computedOutputLabels[i][j]!=0:\n",
    "            loss+=log(computedOutput[i][j])\n",
    "print(-loss/len(realOutputLabeling))"
   ],
   "metadata": {
    "collapsed": false,
    "pycharm": {
     "name": "#%%\n"
    }
   }
  }
 ],
 "metadata": {
  "kernelspec": {
   "display_name": "Python 3",
   "language": "python",
   "name": "python3"
  },
  "language_info": {
   "codemirror_mode": {
    "name": "ipython",
    "version": 2
   },
   "file_extension": ".py",
   "mimetype": "text/x-python",
   "name": "python",
   "nbconvert_exporter": "python",
   "pygments_lexer": "ipython2",
   "version": "2.7.6"
  }
 },
 "nbformat": 4,
 "nbformat_minor": 0
}