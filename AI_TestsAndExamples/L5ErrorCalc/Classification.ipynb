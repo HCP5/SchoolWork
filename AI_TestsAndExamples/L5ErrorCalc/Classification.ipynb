{
 "cells": [
  {
   "cell_type": "markdown",
   "metadata": {
    "collapsed": true,
    "pycharm": {
     "name": "#%% md\n"
    }
   },
   "source": [
    "Classification\n",
    "\n",
    "|   *  | REAL | mar | para | pruna |\n",
    "|:----:|:----:|:---:|:----:|:-----:|\n",
    "|  mar |  ->  | P  | N  |  N   |\n",
    "| para |  ->  | N  | P  |  N   |\n",
    "|pruna |  ->  | N | N  |  P   |\n",
    "\n",
    "`realOutput` : [\"pruna\",\"mar\",\"mar\",\"pruna\",\"para\",\"mar\",\"mar\",\"para\",\"para\",\"mar\",\"pruna\",\"mar\"]<br>\n",
    "`computedOutput` : [\"mar\",\"mar\",\"pruna\",\"para\",\"para\",\"mar\",\"para\",\"pruna\",\"para\",\"mar\",\"pruna\",\"para\"]<br>\n",
    "`realOutputNr` : [1,2,1,1,3,2,1,1,2]<br>\n",
    "`computedOutputNr` : [1,2,2,1,1,1,3,1,2]<br>"
   ]
  },
  {
   "cell_type": "code",
   "execution_count": 1,
   "outputs": [],
   "source": [
    "realOutput = [\"pruna\",\"mar\",\"mar\",\"pruna\",\"para\",\"mar\",\"mar\",\"para\",\"para\",\"mar\",\"pruna\",\"mar\"]\n",
    "computedOutput = [\"mar\",\"para\",\"pruna\",\"para\",\"para\",\"mar\",\"para\",\"pruna\",\"para\",\"mar\",\"pruna\",\"para\"]\n",
    "# realOutput =[1,2,1,1,3,2,1,1,2]\n",
    "# computedOutput= [1,2,2,1,1,1,3,1,2]"
   ],
   "metadata": {
    "collapsed": false,
    "pycharm": {
     "name": "#%%\n"
    }
   }
  },
  {
   "cell_type": "code",
   "execution_count": 2,
   "outputs": [
    {
     "name": "stdout",
     "output_type": "stream",
     "text": [
      "Accuracy: 0.4166666666666667\n",
      "mar (0.6666666666666666, 0.3333333333333333)\n",
      "para (0.3333333333333333, 0.6666666666666666)\n",
      "pruna (0.3333333333333333, 0.3333333333333333)\n"
     ]
    }
   ],
   "source": [
    "from sklearn.utils.multiclass import unique_labels\n",
    "totalAcuracy=0\n",
    "\n",
    "def evalClassification(realLabels, computedLabels, pos):\n",
    "    TP = sum([1 if (realLabels[i] == pos and computedLabels[i] == pos) else 0 for i in range(len(realLabels))])\n",
    "    FP = sum([1 if (realLabels[i] != pos and computedLabels[i] == pos) else 0  for i in range(len(realLabels))])\n",
    "    TN = sum([1 if (realLabels[i] != pos and computedLabels[i] != pos) else 0 for i in range(len(realLabels))])\n",
    "    FN = sum([1 if (realLabels[i] == pos and computedLabels[i] != pos) else 0  for i in range(len(realLabels))])\n",
    "\n",
    "    precisionPos = TP / (TP + FP)\n",
    "    recallPos = TP / (TP + FN)\n",
    "    return precisionPos,recallPos\n",
    "\n",
    "acc=sum([1 if realOutput[i]==computedOutput[i] else 0 for i in range(len(realOutput))])/len(realOutput)\n",
    "print(\"Accuracy: \"+str(acc))\n",
    "for label in unique_labels(realOutput):\n",
    "    print(str(label)+\" \"+str(evalClassification(realOutput,computedOutput,label)))"
   ],
   "metadata": {
    "collapsed": false,
    "pycharm": {
     "name": "#%%\n"
    }
   }
  }
 ],
 "metadata": {
  "kernelspec": {
   "display_name": "Python 3",
   "language": "python",
   "name": "python3"
  },
  "language_info": {
   "codemirror_mode": {
    "name": "ipython",
    "version": 2
   },
   "file_extension": ".py",
   "mimetype": "text/x-python",
   "name": "python",
   "nbconvert_exporter": "python",
   "pygments_lexer": "ipython2",
   "version": "2.7.6"
  }
 },
 "nbformat": 4,
 "nbformat_minor": 0
}