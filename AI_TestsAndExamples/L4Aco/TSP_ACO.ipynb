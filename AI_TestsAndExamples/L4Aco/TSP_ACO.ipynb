{
 "cells": [
  {
   "cell_type": "markdown",
   "metadata": {
    "pycharm": {
     "name": "#%% md\n"
    }
   },
   "source": [
    "Initialize ACO sistem whith prob params\n",
    "--\n",
    "\n",
    "---\n",
    "`params` is a dictionary that contains the following (key:value)\n",
    "* alpha: importance of pheromone\n",
    "* beta: importance of length\n",
    "* intensity: pheromone intensity\n",
    "* noAnts: number of ants from colony\n",
    "* costs: dictionary of the graph where (key=node) and (value=list of lengths to other nodes)\n",
    "* pheros: dictionary of the graph where (key=node) and (value=list of pheromone stored on edge to other nodes)\n",
    "* repeatTest: how many times we throw ants randomly\n",
    "* evap: evaporation coefficient"
   ]
  },
  {
   "cell_type": "code",
   "execution_count": 38,
   "metadata": {
    "pycharm": {
     "name": "#%%\n"
    }
   },
   "outputs": [],
   "source": [
    "class ACO:\n",
    "    def __init__(self,params):\n",
    "        self.__params=params\n",
    "        self.__alpha = params[\"alpha\"]\n",
    "        self.__beta=params[\"beta\"]\n",
    "        self.__intensity=params[\"intensity\"]\n",
    "        self.__noAnts=params[\"noAnts\"]\n",
    "        self.__graphCosts=params[\"costs\"]\n",
    "        self.__graphPheros=params[\"pheros\"]\n",
    "        self.__noRepeats=params[\"repeatTest\"]\n",
    "        self.__evap=params[\"evap\"]\n",
    "        self.__changeRoads=10\n",
    "        self.__foodTimeBaby=False\n",
    "\n",
    "    def solve(self):\n",
    "        \"\"\"\n",
    "        Function that throws for a fixed number of iterations every ant\n",
    "            in a random position in graph\n",
    "\n",
    "        :param graph : graph of costs:\n",
    "        :return: best road based on pheromones\n",
    "        \"\"\"\n",
    "\n",
    "        for time in range(self.__noRepeats):\n",
    "            myAntsList=[ANT(self.__params) for i in range(self.__noAnts)]\n",
    "            for ant in myAntsList:\n",
    "                if (self.__foodTimeBaby.__eq__(True)):\n",
    "                    # pass\n",
    "                    ant.workHarder()\n",
    "                    self.__foodTimeBaby=False\n",
    "                for i in range(len(self.__graphCosts)-1):\n",
    "                    ant._goNext()\n",
    "                ant.updatePhero()\n",
    "            self._updateAllPheros(myAntsList)\n",
    "            if time==self.__changeRoads:\n",
    "                self.__foodTimeBaby=True\n",
    "\n",
    "\n",
    "        return self.__graphPheros\n",
    "\n",
    "    def _updateAllPheros(self, myAntsList):\n",
    "        generalPhero={}\n",
    "        for ant in myAntsList:\n",
    "            for edge in ant.getEdges():\n",
    "                generalPhero[edge]=0\n",
    "        for ant in myAntsList:\n",
    "            for edge in ant.getEdges():\n",
    "                generalPhero[edge]+=ant.getPhero()\n",
    "        for node in self.__graphPheros:\n",
    "            for toNode in range(len(self.__graphPheros)):\n",
    "                self.__graphPheros[node][toNode]*=(1-self.__evap)\n",
    "\n",
    "        for edge in generalPhero:\n",
    "            self.__graphPheros[edge[0]][edge[1]-1]+=generalPhero[edge]"
   ]
  },
  {
   "cell_type": "code",
   "execution_count": 39,
   "metadata": {
    "pycharm": {
     "name": "#%%\n"
    }
   },
   "outputs": [],
   "source": [
    "import random\n",
    "\n",
    "class ANT:\n",
    "    def __init__(self,params):\n",
    "        self.__road=[]\n",
    "        self.__phero=0\n",
    "        #initialize the starting point\n",
    "        self.__road.append(random.randint(1,len(params[\"costs\"])))\n",
    "        self.__acoParams=params\n",
    "        self.__edgeVisited=[]\n",
    "\n",
    "    def getPhero(self):\n",
    "        return self.__phero\n",
    "\n",
    "    def getEdges(self):\n",
    "        return self.__edgeVisited\n",
    "\n",
    "    def _goNext(self):\n",
    "        graph=self.__acoParams[\"costs\"]\n",
    "        pheroGraph=self.__acoParams[\"pheros\"]\n",
    "        alhpa=self.__acoParams[\"alpha\"]\n",
    "        beta=self.__acoParams[\"beta\"]\n",
    "        probabilities={}\n",
    "        fromNode=self.__road[-1:][0]\n",
    "        sumOfPOS=0\n",
    "        for i in range(len(graph)):\n",
    "            toNode=i+1\n",
    "            if not self.__road.__contains__(toNode):\n",
    "                sumOfPOS+=(pow(pheroGraph[fromNode][toNode-1],alhpa)*pow(1/graph[fromNode][toNode-1],beta))\n",
    "\n",
    "        for i in range(len(graph)):\n",
    "            toNode=i+1\n",
    "            if not self.__road.__contains__(toNode):\n",
    "                probabilities[toNode]=(pow(pheroGraph[fromNode][toNode-1],alhpa)*pow(1/graph[fromNode][toNode-1],beta))/sumOfPOS\n",
    "        selected=0\n",
    "        while selected==0:\n",
    "            roulete = random.uniform(0, 1)\n",
    "            for toNode in probabilities:\n",
    "                if len(probabilities) == 1:\n",
    "                    selected=toNode\n",
    "                    break\n",
    "                if probabilities[toNode]<roulete:\n",
    "                    selected=toNode\n",
    "                    break\n",
    "        self.__road.append(selected)\n",
    "\n",
    "    def updatePhero(self):\n",
    "        totalLength=self.getLenght()\n",
    "        self.__phero=self.__acoParams[\"intensity\"]/totalLength\n",
    "\n",
    "\n",
    "\n",
    "    def getLenght(self):\n",
    "        graph=self.__acoParams[\"costs\"]\n",
    "        length=0\n",
    "\n",
    "        for nod in range(len(self.__road)-1):\n",
    "            length+=graph[self.__road[nod]][self.__road[nod+1]-1]\n",
    "            self.__edgeVisited.append((self.__road[nod],self.__road[nod+1]))\n",
    "        return length\n",
    "\n",
    "    def workHarder(self):\n",
    "        self.__acoParams[\"intensity\"]+=0.5"
   ]
  },
  {
   "cell_type": "code",
   "execution_count": 40,
   "metadata": {
    "pycharm": {
     "name": "#%%\n"
    }
   },
   "outputs": [],
   "source": [
    "def readData(data):\n",
    "    dataFile=open(data,\"r\")\n",
    "    tree={}\n",
    "    phero={}\n",
    "    n = int(dataFile.readline())\n",
    "    for i in range(n):\n",
    "        phero[i+1]=[]\n",
    "    for i in range(n):\n",
    "        [phero[i+1].append(0.5) for i in range(n)]\n",
    "    for i in range(n):\n",
    "        b = []\n",
    "        line = dataFile.readline()\n",
    "        line = line.split(\",\")\n",
    "        for e in line:\n",
    "            b.append(int(e))\n",
    "        tree.__setitem__(i + 1, b)\n",
    "    return tree,phero\n",
    "\n",
    "\n",
    "def getBest(pheroTree):\n",
    "    pass\n"
   ]
  },
  {
   "cell_type": "markdown",
   "metadata": {
    "pycharm": {
     "name": "#%% md\n"
    }
   },
   "source": [
    "MAIN\n",
    "==="
   ]
  },
  {
   "cell_type": "code",
   "execution_count": 41,
   "metadata": {
    "pycharm": {
     "name": "#%%\n"
    }
   },
   "outputs": [],
   "source": [
    "# * alpha: importance of pheromone\n",
    "# * beta: importance of length\n",
    "# * intensity: pheromone intensity\n",
    "# * noAnts: number of ants from colony\n",
    "# * costs: dictionary of the graph where (key=node) and (value=list of lengths to other nodes)\n",
    "# * pheros: dictionary of the graph where (key=node) and (value=list of pheromone stored on edge to other nodes)\n",
    "# * repeatTest: how many times we throw ants randomly\n",
    "# * evap: evaporation coefficient\n",
    "tree, pheroTree = readData(\"data/hard.txt\")\n",
    "\n",
    "props = {'alpha': 10.0, 'beta': 1.0, 'intensity': 1, 'noAnts': 100, 'costs': tree, 'pheros': pheroTree,\n",
    "         'repeatTest': 1000, 'evap': 0.5}\n",
    "aco = ACO(props)\n",
    "pheroTree = aco.solve()\n",
    "# for edge in pheroTree:\n",
    "#     print( pheroTree[edge])"
   ]
  },
  {
   "cell_type": "code",
   "execution_count": 42,
   "metadata": {
    "pycharm": {
     "name": "#%%\n"
    }
   },
   "outputs": [
    {
     "data": {
      "text/plain": "<Figure size 432x288 with 2 Axes>",
      "image/png": "[encoded data removed]"
     },
     "metadata": {
      "needs_background": "light"
     },
     "output_type": "display_data"
    }
   ],
   "source": [
    "import networkx as nx\n",
    "import matplotlib\n",
    "import matplotlib.pyplot as plt\n",
    "from matplotlib import cm\n",
    "\n",
    "%matplotlib inline\n",
    "\n",
    "# create a graph using code from @jlarsch's answer\n",
    "G = nx.Graph()\n",
    "for i in range(len(pheroTree)):\n",
    "    G.add_node(str(i+1))\n",
    "for i in range(len(pheroTree)):\n",
    "    for j in range(len(pheroTree)):\n",
    "        G.add_edges_from([(str(i+1),str(j+1))],weight=(pheroTree[i+1][j]+pheroTree[j+1][i]))\n",
    "# compute spring layout positions for the graph\n",
    "pos = nx.spring_layout(G)\n",
    "# nx.draw_networkx_edges returns an instance of\n",
    "# `matplotlib.collections.LineCollection`, which\n",
    "# could be passed to plt.colorbar to generate\n",
    "# color bar\n",
    "# the list comprehension to obtain edge weights is from @Aric's answer at\n",
    "# https://stackoverflow.com/a/25651827/4638182\n",
    "mcl = nx.draw_networkx_edges(\n",
    "    G, pos, edge_cmap=cm.Blues, width=5,\n",
    "    edge_color=[G[u][v]['weight'] for u, v in G.edges])\n",
    "nx.draw_networkx_nodes(G, pos)\n",
    "nx.draw_networkx_labels(G, pos)\n",
    "plt.colorbar(mcl)\n",
    "plt.savefig(\"simple_path.png\")\n",
    "plt.show()"
   ]
  },
  {
   "cell_type": "code",
   "execution_count": 43,
   "metadata": {
    "pycharm": {
     "name": "#%%\n"
    }
   },
   "outputs": [
    {
     "name": "stdout",
     "output_type": "stream",
     "text": [
      "([2, 3, 1, 7, 4, 8, 5, 6], 21)\n"
     ]
    }
   ],
   "source": [
    "def getROAD_AB(treeSource):\n",
    "\n",
    "    coada = []\n",
    "    listaParcurgere = []\n",
    "    dimensiuneDrum = 0\n",
    "    vizitati = []\n",
    "    coada.append(random.randint(1,len(treeSource)))\n",
    "    while len(coada):\n",
    "        min = None\n",
    "        vecinMinim = 0\n",
    "        nodCurent = coada.pop()\n",
    "        vizitati.append(nodCurent)\n",
    "        listaParcurgere.append(nodCurent)\n",
    "        for i in range(len(tree.__getitem__(nodCurent))):\n",
    "            if not vizitati.__contains__(i + 1):\n",
    "                if min is None:\n",
    "                    min = tree.__getitem__(nodCurent)[i]\n",
    "                    vecinMinim = i + 1\n",
    "                else:\n",
    "                    if tree.__getitem__(nodCurent)[i] < min:\n",
    "                        min = tree.__getitem__(nodCurent)[i]\n",
    "                        vecinMinim = i + 1\n",
    "        if not len(vizitati) == len(tree.__getitem__(nodCurent)):\n",
    "            coada.append(vecinMinim)\n",
    "            dimensiuneDrum += tree.__getitem__(nodCurent)[vecinMinim - 1]\n",
    "    return listaParcurgere, dimensiuneDrum\n",
    "print(getROAD_AB(pheroTree))"
   ]
  }
 ],
 "metadata": {
  "kernelspec": {
   "display_name": "Python 3",
   "language": "python",
   "name": "python3"
  },
  "language_info": {
   "codemirror_mode": {
    "name": "ipython",
    "version": 3
   },
   "file_extension": ".py",
   "mimetype": "text/x-python",
   "name": "python",
   "nbconvert_exporter": "python",
   "pygments_lexer": "ipython3",
   "version": "3.9.1"
  }
 },
 "nbformat": 4,
 "nbformat_minor": 1
}